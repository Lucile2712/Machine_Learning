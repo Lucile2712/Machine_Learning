{
 "cells": [
  {
   "cell_type": "markdown",
   "metadata": {
    "editable": false,
    "slideshow": {
     "slide_type": ""
    },
    "tags": []
   },
   "source": [
    "_In this notebook, every question will be marked by a blue border, and answers should be provided in cells in a green border. All code-related answers are preceded by a #TODO._"
   ]
  },
  {
   "cell_type": "markdown",
   "metadata": {},
   "source": [
    "## Students (to fill in)\n",
    "\n",
    " - Nguyen Y-Quynh (group A2)\n",
    " - Cossoul Lucile (group A2)"
   ]
  },
  {
   "cell_type": "markdown",
   "metadata": {
    "editable": false,
    "slideshow": {
     "slide_type": ""
    },
    "tags": []
   },
   "source": [
    "## Objectives of the practical work\n",
    "\n",
    "The objective is to get hands on experience on the fundamental elements of neural networks:\n",
    " \n",
    " - perceptron architecture (linear regression)\n",
    " - loss function\n",
    " - empirical loss\n",
    " - gradient descent\n",
    "\n",
    "For this we will implement from scratch the data-structure and algorithms to train a perceptron. Note that slides related to the perceptron and neural networks in general are available on [moodle](https://moodle.insa-toulouse.fr/course/view.php?id=1790).\n",
    "\n",
    "## Dataset\n",
    "\n",
    "The objective of the regression is the prediction of the hydrodynamic performance of sailing yachts from dimensions and velocity.\n",
    "The **inputs** are linked to dimension and hydrodynamics characteristics:\n",
    "1. Longitudinal position of the center of buoyancy\n",
    "(*flottabilité*), adimensional.\n",
    "2. Prismatic coefficient, adimensional.\n",
    "3. Length-displacement ratio, adimensional.\n",
    "4. Beam -draught ratio ((*tiran d’eau*), adimensional.\n",
    "5. Length-beam ratio, adimensional.\n",
    "6. Froude number, adimensional\n",
    "\n",
    "**Target value/predicted value (Output)** = Residuary resistance per unit weight of\n",
    "displacement, adimensional"
   ]
  },
  {
   "cell_type": "code",
   "execution_count": 22,
   "metadata": {
    "editable": false,
    "slideshow": {
     "slide_type": ""
    },
    "tags": []
   },
   "outputs": [],
   "source": [
    "# Import some useful libraries and functions\n",
    "\n",
    "import numpy as np\n",
    "import pandas\n",
    "import matplotlib.pyplot as plt\n",
    "\n",
    "def print_stats(dataset):\n",
    "    \"\"\"Print statistics of a dataset\"\"\"\n",
    "    print(pandas.DataFrame(dataset).describe())\n"
   ]
  },
  {
   "cell_type": "code",
   "execution_count": 23,
   "metadata": {
    "editable": false,
    "slideshow": {
     "slide_type": ""
    },
    "tags": []
   },
   "outputs": [
    {
     "name": "stdout",
     "output_type": "stream",
     "text": [
      "Dataset available\n"
     ]
    }
   ],
   "source": [
    "# Download the data set and place in the current folder (works on linux only)\n",
    "filename = 'yacht_hydrodynamics.data'\n",
    "\n",
    "import os.path\n",
    "import requests\n",
    "\n",
    "if not os.path.exists(filename):\n",
    "    print(\"Downloading dataset...\")\n",
    "    r = requests.get('https://arbimo.github.io/tp-supervised-learning/tp1/' + filename)\n",
    "    open(filename , 'wb').write(r.content)\n",
    "    \n",
    "print('Dataset available')"
   ]
  },
  {
   "cell_type": "markdown",
   "metadata": {
    "editable": false,
    "slideshow": {
     "slide_type": ""
    },
    "tags": []
   },
   "source": [
    "<!-- Question Start -->\n",
    "<div style=\"border: 1px solid blue; padding: 20px;border-radius: 5px;\">\n",
    "    \n",
    "### Explore the dataset\n",
    "\n",
    "- how many examples are there in the dataset?\n",
    "- how many features for each example?\n",
    "- what is the ground truth of the 10th example\n",
    "</div>\n",
    "<!-- Question End -->"
   ]
  },
  {
   "cell_type": "code",
   "execution_count": 24,
   "metadata": {
    "editable": false,
    "slideshow": {
     "slide_type": ""
    },
    "tags": []
   },
   "outputs": [
    {
     "name": "stdout",
     "output_type": "stream",
     "text": [
      "f([-5.    0.6   4.78  4.24  3.15  0.35]) = 8.62\n",
      "f([-5.     0.565  4.77   3.99   3.15   0.15 ]) = 0.18\n",
      "f([-2.3    0.565  4.78   5.35   2.76   0.15 ]) = 0.29\n",
      "f([-5.     0.6    4.78   4.24   3.15   0.325]) = 6.2\n",
      "f([0.    0.53  4.78  3.75  3.15  0.175]) = 0.59\n"
     ]
    }
   ],
   "source": [
    "# load the dataset and slip between inputs (X) and ground truth (Y)\n",
    "dataset = np.genfromtxt(\"yacht_hydrodynamics.data\", delimiter='')\n",
    "X = dataset[:, :-1] # examples features -  all rows with all elements in rows except last one\n",
    "Y = dataset[:, -1]  # ground truth - last element in all rows\n",
    "\n",
    "# Print the first 5 examples\n",
    "for i in range(0,5):\n",
    "    print(f\"f({X[i]}) = {Y[i]}\")"
   ]
  },
  {
   "cell_type": "code",
   "execution_count": 25,
   "metadata": {
    "editable": true,
    "slideshow": {
     "slide_type": ""
    },
    "tags": []
   },
   "outputs": [
    {
     "name": "stdout",
     "output_type": "stream",
     "text": [
      "308\n",
      "6\n",
      "1.83\n"
     ]
    }
   ],
   "source": [
    "# TODO : explore the dataset\n",
    "\n",
    "#- how many examples are there in the dataset\n",
    "print(len(dataset))  \n",
    "#- how many features for each example?\n",
    "print(len(X[0]))  \n",
    "#- what is the ground truth of the 10th example\n",
    "print(Y[9])"
   ]
  },
  {
   "cell_type": "markdown",
   "metadata": {
    "editable": true,
    "raw_mimetype": "",
    "slideshow": {
     "slide_type": ""
    },
    "tags": []
   },
   "source": [
    "<!-- Answer Section Start -->\n",
    "<div style=\"border: 1px solid green; padding: 10px; margin-top: 10px; border-radius: 5px\">\n",
    "\n",
    "**Your answer here:**\n",
    "\n",
    "There are 308 examples in the dataset, they each have 6 features. The ground truth of the 10th example is 1.83.\n",
    "\n",
    "</div>\n",
    "<!-- Answer Section End -->"
   ]
  },
  {
   "cell_type": "markdown",
   "metadata": {
    "editable": false,
    "slideshow": {
     "slide_type": ""
    },
    "tags": []
   },
   "source": [
    "<!-- Question Start -->\n",
    "<div style=\"border: 1px solid blue; padding: 20px;border-radius: 5px;\">\n",
    "The following command adds a column to the inputs.\n",
    "\n",
    "- what is in the value added this column?\n",
    "- why are we doing this?\n",
    "</div>\n",
    "<!-- Question End -->"
   ]
  },
  {
   "cell_type": "code",
   "execution_count": 26,
   "metadata": {
    "editable": false,
    "slideshow": {
     "slide_type": ""
    },
    "tags": []
   },
   "outputs": [
    {
     "name": "stdout",
     "output_type": "stream",
     "text": [
      "[-2.3    0.568  4.78   3.99   3.17   0.25 ]\n",
      "                0           1           2           3           4           5\n",
      "count  308.000000  308.000000  308.000000  308.000000  308.000000  308.000000\n",
      "mean    -2.381818    0.564136    4.788636    3.936818    3.206818    0.287500\n",
      "std      1.513219    0.023290    0.253057    0.548193    0.247998    0.100942\n",
      "min     -5.000000    0.530000    4.340000    2.810000    2.730000    0.125000\n",
      "25%     -2.400000    0.546000    4.770000    3.750000    3.150000    0.200000\n",
      "50%     -2.300000    0.565000    4.780000    3.955000    3.150000    0.287500\n",
      "75%     -2.300000    0.574000    5.100000    4.170000    3.510000    0.375000\n",
      "max      0.000000    0.600000    5.140000    5.350000    3.640000    0.450000\n",
      "           0           1           2           3           4           5  \\\n",
      "count  308.0  308.000000  308.000000  308.000000  308.000000  308.000000   \n",
      "mean     1.0   -2.381818    0.564136    4.788636    3.936818    3.206818   \n",
      "std      0.0    1.513219    0.023290    0.253057    0.548193    0.247998   \n",
      "min      1.0   -5.000000    0.530000    4.340000    2.810000    2.730000   \n",
      "25%      1.0   -2.400000    0.546000    4.770000    3.750000    3.150000   \n",
      "50%      1.0   -2.300000    0.565000    4.780000    3.955000    3.150000   \n",
      "75%      1.0   -2.300000    0.574000    5.100000    4.170000    3.510000   \n",
      "max      1.0    0.000000    0.600000    5.140000    5.350000    3.640000   \n",
      "\n",
      "                6  \n",
      "count  308.000000  \n",
      "mean     0.287500  \n",
      "std      0.100942  \n",
      "min      0.125000  \n",
      "25%      0.200000  \n",
      "50%      0.287500  \n",
      "75%      0.375000  \n",
      "max      0.450000  \n",
      "[ 1.    -2.3    0.568  4.78   3.99   3.17   0.25 ]\n"
     ]
    }
   ],
   "source": [
    "print(X[5])\n",
    "print_stats(X)\n",
    "\n",
    "#winsert a new column with ones for the calculation of hw(x)\n",
    "X = np.insert(X, 0, np.ones((len(X))), axis= 1)\n",
    "\n",
    "print_stats(X)\n",
    "\n",
    "#a value of 1 was inserted in the first column \n",
    "print(X[5])"
   ]
  },
  {
   "cell_type": "markdown",
   "metadata": {
    "editable": true,
    "slideshow": {
     "slide_type": ""
    },
    "tags": []
   },
   "source": [
    "<!-- Answer Section Start -->\n",
    "<div style=\"border: 1px solid green; padding: 10px; margin-top: 10px; border-radius: 5px\">\n",
    "\n",
    "**Your answer here:**\n",
    "\n",
    "- what is in the value added this column? \n",
    "    1,  (before the first feature)\n",
    "- why are we doing this? \n",
    "    we are adding a term for the bias to make it more simple for calculating the hw(x). \n",
    "</div>\n",
    "<!-- Answer Section End -->"
   ]
  },
  {
   "cell_type": "markdown",
   "metadata": {
    "editable": false,
    "slideshow": {
     "slide_type": ""
    },
    "tags": []
   },
   "source": [
    "## Creating the perceptron\n",
    "\n",
    "![Perceptron for regression](https://arbimo.github.io/tp-supervised-learning/2223-ae/tp1/perceptron-regression.png)\n",
    "\n",
    "We now want to define a perceptron, that is, a function of the form: \n",
    "\n",
    "$h_w(x) = w_0 + w_1 \\times x_1 + \\dots + w_n \\times x_n$\n",
    "\n",
    "<!-- Question Start -->\n",
    "<div style=\"border: 1px solid blue; padding: 20px;border-radius: 5px;\">\n",
    "    \n",
    "- Complete the code snippet below to:\n",
    "  - create the vector of weight `w`, initialize to arbitrary values (we suggest 0)\n",
    "  - implement the `h` function that evaluate an example based on the vector of weights\n",
    "  - check if this works on a few examples\n",
    "</div>\n",
    "<!-- Question End -->"
   ]
  },
  {
   "cell_type": "code",
   "execution_count": 27,
   "metadata": {
    "editable": true,
    "slideshow": {
     "slide_type": ""
    },
    "tags": []
   },
   "outputs": [
    {
     "name": "stdout",
     "output_type": "stream",
     "text": [
      "[ 1.   -5.    0.6   4.78  4.24  3.15  0.35]\n",
      "0.0\n",
      "8.62 \n",
      "\n",
      "[ 1.    -5.     0.565  4.77   3.99   3.15   0.15 ]\n",
      "0.0\n",
      "0.18 \n",
      "\n",
      "[ 1.    -2.3    0.565  4.78   5.35   2.76   0.15 ]\n",
      "0.0\n",
      "0.29\n"
     ]
    }
   ],
   "source": [
    "# TODO\n",
    "w = np.zeros((len(X[0])))\n",
    "\n",
    "def h(w, x):\n",
    "    return np.sum(w * x) #the bias in included thanks to the 1 column inserted\n",
    "\n",
    "\n",
    "#  ground truth and the evaluation of h_w on the first example\n",
    "print(X[0]) \n",
    "print(h(w,X[0]))\n",
    "print(Y[0], \"\\n\")\n",
    "\n",
    "print(X[1]) \n",
    "print(h(w,X[1]))\n",
    "print(Y[1], \"\\n\")\n",
    "\n",
    "\n",
    "print(X[2]) \n",
    "print(h(w,X[2]))\n",
    "print(Y[2])"
   ]
  },
  {
   "cell_type": "markdown",
   "metadata": {
    "editable": false,
    "slideshow": {
     "slide_type": ""
    },
    "tags": []
   },
   "source": [
    "## Loss function\n",
    "<!-- Question Start -->\n",
    "<div style=\"border: 1px solid blue; padding: 20px;border-radius: 5px;\">\n",
    "    \n",
    "Complete the definiton of the loss function below such that, for a **single** example `x` with ground truth `y`, it returns the $L_2$ loss of $h_w$ on `x`.\n",
    "</div>\n",
    "<!-- Question End -->"
   ]
  },
  {
   "cell_type": "code",
   "execution_count": 28,
   "metadata": {
    "editable": true,
    "slideshow": {
     "slide_type": ""
    },
    "tags": []
   },
   "outputs": [
    {
     "data": {
      "text/plain": [
       "74.30439999999999"
      ]
     },
     "execution_count": 28,
     "metadata": {},
     "output_type": "execute_result"
    }
   ],
   "source": [
    "# TODO\n",
    "#we square the difference because it's Loss2\n",
    "def loss(w, x, y):\n",
    "    return (y - h(w,x))**2\n",
    "\n",
    "loss(w,X[0], Y[0])"
   ]
  },
  {
   "cell_type": "markdown",
   "metadata": {
    "editable": false,
    "slideshow": {
     "slide_type": ""
    },
    "tags": []
   },
   "source": [
    "## Empirical loss\n",
    "<!-- Question Start -->\n",
    "<div style=\"border: 1px solid blue; padding: 20px;border-radius: 5px;\">\n",
    "    \n",
    "Complete the function below to compute the empirical loss of $h_w$ on a **set** of examples $X$ with associated ground truths $Y$.\n",
    "</div>\n",
    "<!-- Question End -->"
   ]
  },
  {
   "cell_type": "code",
   "execution_count": 29,
   "metadata": {
    "editable": true,
    "slideshow": {
     "slide_type": ""
    },
    "tags": []
   },
   "outputs": [
    {
     "data": {
      "text/plain": [
       "339.2467464285712"
      ]
     },
     "execution_count": 29,
     "metadata": {},
     "output_type": "execute_result"
    }
   ],
   "source": [
    "# TODO\n",
    "def emp_loss(w, X, Y):\n",
    "    sum = 0\n",
    "    for  i in range(len(X)):\n",
    "        sum+=loss(w, X[i], Y[i])\n",
    "    return sum/len(X)\n",
    "    \n",
    "emp_loss(w, X, Y)"
   ]
  },
  {
   "cell_type": "markdown",
   "metadata": {
    "editable": false,
    "slideshow": {
     "slide_type": ""
    },
    "tags": []
   },
   "source": [
    "## Gradient update\n",
    "\n",
    "<!-- Question Start -->\n",
    "<div style=\"border: 1px solid blue; padding: 20px;border-radius: 5px;\">\n",
    "    \n",
    "A gradient update is of the form: $w \\gets w + dw$\n",
    "\n",
    "- Complete the function below so that it computes the $dw$ term (the 'update') based on a set of examples `(X, Y)` the step (`alpha`)\n",
    "\n",
    "(you can look at slide 18 of the perceptron lecture slides for an example)\n",
    "</div>\n",
    "<!-- Question End -->"
   ]
  },
  {
   "cell_type": "code",
   "execution_count": 30,
   "metadata": {
    "editable": true,
    "slideshow": {
     "slide_type": ""
    },
    "tags": []
   },
   "outputs": [
    {
     "data": {
      "text/plain": [
       "array([1.83836259, 1.83766206, 1.83763895, 1.83746096, 1.83720017,\n",
       "       1.83704232, 1.83739439])"
      ]
     },
     "execution_count": 30,
     "metadata": {},
     "output_type": "execute_result"
    }
   ],
   "source": [
    "# TODO\n",
    "def compute_update(w, X, Y, alpha):\n",
    "    sum=0\n",
    "    for j in range(len(X)):\n",
    "        for k in range(len(X[0])):\n",
    "            sum+=(Y[j]-h(w,X[j])) * X[j][k]\n",
    "            w[k] = w[k] + alpha * sum \n",
    "    return w\n",
    "\n",
    "w=np.zeros(len(X[0]))\n",
    "compute_update(w, X, Y, alpha = 10e-7)"
   ]
  },
  {
   "cell_type": "markdown",
   "metadata": {
    "editable": false,
    "slideshow": {
     "slide_type": ""
    },
    "tags": []
   },
   "source": [
    "## Gradient descent\n",
    "<!-- Question Start -->\n",
    "<div style=\"border: 1px solid blue; padding: 20px;border-radius: 5px;\">\n",
    "Now implement the gradient descent algorithm that will:\n",
    "\n",
    "- repeatedly apply an update the weights \n",
    "- stops when a max number of iterations is reached (do not consider early stopping for now)\n",
    "- returns the final vector of weights\n",
    "</div>\n",
    "<!-- Question End -->"
   ]
  },
  {
   "cell_type": "code",
   "execution_count": 31,
   "metadata": {
    "editable": true,
    "slideshow": {
     "slide_type": ""
    },
    "tags": []
   },
   "outputs": [
    {
     "data": {
      "image/png": "[encoded data removed]",
      "text/plain": [
       "<Figure size 640x480 with 1 Axes>"
      ]
     },
     "metadata": {},
     "output_type": "display_data"
    }
   ],
   "source": [
    "# TODO\n",
    "\n",
    "loss_values = []\n",
    "\n",
    "def descent(w_init, X, Y, alpha, max_iter):\n",
    "    i=0 \n",
    "    w=w_init\n",
    "    while (i<max_iter) :\n",
    "        w = compute_update(w,X,Y, alpha)\n",
    "        current_loss = emp_loss(w, X, Y)\n",
    "        # Ajouter la perte à la liste des valeurs de perte\n",
    "        loss_values.append(current_loss)\n",
    "        i+=1\n",
    "    return w\n",
    "\n",
    "w=np.zeros(len(X[0]))\n",
    "descent (w,X,Y,10e-7, 200)\n",
    "\n",
    "\n",
    "   \n",
    "\n",
    "# Tracer l'évolution de la perte au cours des itérations\n",
    "plt.plot(loss_values, 'ro-')\n",
    "plt.title('Evolution of Loss Function')\n",
    "plt.xlabel('Iteration')\n",
    "plt.ylabel('Loss')\n",
    "plt.show()\n",
    "        "
   ]
  },
  {
   "cell_type": "markdown",
   "metadata": {
    "editable": false,
    "slideshow": {
     "slide_type": ""
    },
    "tags": []
   },
   "source": [
    "## Exploitation\n",
    "<!-- Question Start -->\n",
    "<div style=\"border: 1px solid blue; padding: 20px;border-radius: 5px;\">\n",
    "You gradient descent is now complete and you can exploit it to train your perceptron.\n",
    "\n",
    "- Train your perceptron to get a model.\n",
    "- Visualize the evolution of the loss on the training set. Has it converged?\n",
    "- Try training for several choices of `alpha` and `max_iter`. What seem like a reasonable choice?\n",
    "- What is the loss associated with the final model?\n",
    "- Is the final model the optimal one for a perceptron?\n",
    "</div>\n",
    "<!-- Question End -->"
   ]
  },
  {
   "cell_type": "code",
   "execution_count": 32,
   "metadata": {
    "editable": true,
    "slideshow": {
     "slide_type": ""
    },
    "tags": []
   },
   "outputs": [
    {
     "name": "stdout",
     "output_type": "stream",
     "text": [
      "Alpha : 0.0001  , Nb_iter 1000 Loss:  171.56233784734553\n",
      "[-12.0086359    0.67512574   1.30631886   3.14108533   0.04678332\n",
      "   0.64672888  31.99651824]\n"
     ]
    }
   ],
   "source": [
    "# TODO\n",
    "\n",
    "def test(alpha,nb_iter,X):\n",
    "    w=np.zeros(len(X[0]))\n",
    "    w=descent (w,X,Y,alpha, nb_iter)\n",
    "\n",
    "    loss = emp_loss(w,X,Y)\n",
    "    print(\"Alpha :\", alpha, \" , Nb_iter\", nb_iter,  \"Loss: \", loss)\n",
    "    return w    \n",
    "\n",
    "#for i in range(5):\n",
    "#    for j in range(5):\n",
    "#        test(10e-5*10**(-j), i*100,X)\n",
    "#    print(\"\\n\")\n",
    "\n",
    "#best model\n",
    "u=test(10e-5, 1000,X)\n",
    "print(u)"
   ]
  },
  {
   "cell_type": "markdown",
   "metadata": {
    "editable": true,
    "slideshow": {
     "slide_type": ""
    },
    "tags": []
   },
   "source": [
    "<!-- Answer Section Start -->\n",
    "<div style=\"border: 1px solid green; padding: 10px; margin-top: 10px; border-radius: 5px\">\n",
    "\n",
    "\n",
    "\n",
    "- Visualize the evolution of the loss on the training set. Has it converged?\n",
    "    Yes, it converges.\n",
    "\n",
    "- Try training for several choices of `alpha` and `max_iter`. What seem like a reasonable choice?\n",
    "    A reasonable choice for alpha is 10e-5 and max_iter is 1000. \n",
    "    We can increase the number of iterations, but we might overfit the training set and the calculating time is getting significant for a reduced improvement of the loss.\n",
    "\n",
    "- What is the loss associated with the final model? \n",
    "    171.56,  which is slightly higher than the initial value but still within an acceptable range considering the high number of outliers.\n",
    "    \n",
    "- Is the final model the optimal one for a perceptron?  \n",
    "    We can always improve our model by increasing the number of iterations or using a different alpha but for our computer with a limited amount of resources, it is reasonable. We cannot test all of the combinations of alpha and number of iterations. \n",
    "    In any case, this perceptron only has one layer and can not learn complex patterns like multi layers perceptron do. \n",
    "\n",
    "\n",
    "\n",
    "</div>\n",
    "<!-- Answer Section End -->"
   ]
  },
  {
   "cell_type": "code",
   "execution_count": 33,
   "metadata": {
    "editable": true,
    "slideshow": {
     "slide_type": ""
    },
    "tags": []
   },
   "outputs": [
    {
     "data": {
      "text/plain": [
       "Text(0, 0.5, 'f(examples)')"
      ]
     },
     "execution_count": 33,
     "metadata": {},
     "output_type": "execute_result"
    },
    {
     "data": {
      "image/png": "[encoded data removed]",
      "text/plain": [
       "<Figure size 640x480 with 1 Axes>"
      ]
     },
     "metadata": {},
     "output_type": "display_data"
    }
   ],
   "source": [
    "# Code sample that can be used to visualize the difference between the ground truth and the prediction\n",
    "import matplotlib.pyplot as plt\n",
    "\n",
    "\n",
    "num_samples_to_plot = 308\n",
    "#plots original y\n",
    "plt.plot(Y[0:num_samples_to_plot], 'ro', label='y')  \n",
    "yw = [h(w,x) for x in X]\n",
    "#plots updated y with new w\n",
    "plt.plot(yw[0:num_samples_to_plot], 'bx', label='$\\hat{y}$')  \n",
    "plt.legend()\n",
    "plt.xlabel(\"Examples\")\n",
    "plt.ylabel(\"f(examples)\")\n"
   ]
  },
  {
   "cell_type": "markdown",
   "metadata": {
    "editable": false,
    "slideshow": {
     "slide_type": ""
    },
    "tags": []
   },
   "source": [
    "\n",
    "\n",
    "\n",
    "\n",
    "# Going further\n",
    "\n",
    "The following are extensions of the work previously done. If attempting them **do not modify** the code you produced above so that it can be evaluated.\n",
    "\n",
    "\n",
    "### Data normalization\n",
    "\n",
    "Different input features can have different units, and very different ranges.\n",
    "Within the perceptron computation, these values will be summed together.\n",
    "While gradient descent is normally able to deal with this (by adapting the weights of the perceptron for each input feature), standardizing the input features usually eases the perceptron training, and can sometimes improve accuracy.\n",
    "\n",
    "\n",
    "\n",
    "\n",
    "```python\n",
    "from sklearn.preprocessing import StandardScaler\n",
    "sc = StandardScaler(copy=True) \n",
    "X_normalized = sc.fit_transform(X)\n",
    "```\n",
    "<!-- Question Start -->\n",
    "<div style=\"border: 1px solid blue; padding: 20px;border-radius: 5px;\">\n",
    "Try applying a standard normalization to the input features (make sure that you keep a feature column that is always equal to 1). Is the convergence faster ? Try to quantify this speed-up. What about accuracy ?\n",
    "</div>\n",
    "<!-- Question End -->\n",
    "\n",
    "\n",
    "### Improvements to gradient descent\n",
    "\n",
    "<!-- Question Start -->\n",
    "<div style=\"border: 1px solid blue; padding: 20px;border-radius: 5px;\">\n",
    "Consider improving the gradient descent with:\n",
    "\n",
    " - Stochastic Gradient Descent (SGD), which means selecting a subset of the examples for training\n",
    " - Detection of convergence to halt the algorithm before the maximum number of iterations\n",
    "</div>\n",
    "<!-- Question End -->\n"
   ]
  },
  {
   "cell_type": "code",
   "execution_count": 34,
   "metadata": {
    "editable": true,
    "slideshow": {
     "slide_type": ""
    },
    "tags": []
   },
   "outputs": [
    {
     "name": "stdout",
     "output_type": "stream",
     "text": [
      "Alpha : 0.0001  , Nb_iter 1000 Loss:  81.0067541220502\n"
     ]
    },
    {
     "data": {
      "image/png": "[encoded data removed]",
      "text/plain": [
       "<Figure size 640x480 with 1 Axes>"
      ]
     },
     "metadata": {},
     "output_type": "display_data"
    }
   ],
   "source": [
    "#TODO\n",
    "from sklearn.preprocessing import StandardScaler\n",
    "import matplotlib.pyplot as plt\n",
    "\n",
    "#Try applying a standard normalization to the input features (make sure that you keep a feature column that is always equal to 1)\n",
    "sc = StandardScaler(copy=True)\n",
    "X_normalized = sc.fit_transform(X)\n",
    "X_normalized = np.insert(X_normalized, 0, np.ones((len(X_normalized))), axis= 1)\n",
    "#print_stats(X_normalized)\n",
    "\n",
    "\n",
    "w=test(10e-5, 1000,X_normalized)\n",
    "#print(w)\n",
    "\n",
    "num_samples_to_plot = 308\n",
    "#plots original y\n",
    "plt.plot(Y[0:num_samples_to_plot], 'ro', label='y')  \n",
    "yw = [h(w,x) for x in X_normalized]\n",
    "#plots updated y with new w\n",
    "plt.plot(yw[0:num_samples_to_plot], 'bx', label='$\\hat{y}$_norm')  \n",
    "plt.legend()\n",
    "plt.xlabel(\"Examples\")\n",
    "plt.ylabel(\"f(examples)\")\n",
    "plt.show()\n"
   ]
  },
  {
   "cell_type": "code",
   "execution_count": 39,
   "metadata": {},
   "outputs": [
    {
     "name": "stdout",
     "output_type": "stream",
     "text": [
      "\n",
      "Trained Weights with SGD:  [-3.27739166e+229  0.00000000e+000 -1.36420801e+229  9.58435431e+229\n",
      "  4.42532077e+230 -4.46553569e+230 -4.40135342e+230 -8.20586838e+229]\n",
      "Prediction for  [ 1.          0.         -1.73302265  1.5423783  -0.03418367  0.55395671\n",
      " -0.2294799   0.62017367]  is  -7.369201821061177e+229\n",
      "Prediction for  [ 1.          0.         -1.73302265  0.03714219 -0.07376475  0.09717082\n",
      " -0.2294799  -1.36438208]  is  1.3135432355430167e+230\n",
      "Prediction for  [ 1.          0.          0.05415696  0.03714219 -0.03418367  2.58208609\n",
      " -1.80462994 -1.36438208]  is  -2.918792049635943e+230\n",
      "Prediction for  [ 1.          0.         -1.73302265  1.5423783  -0.03418367  0.55395671\n",
      " -0.2294799   0.3721042 ]  is  -5.333576408085716e+229\n"
     ]
    }
   ],
   "source": [
    "# - Stochastic Gradient Descent (SGD), which means selecting a subset of the examples for training\n",
    "# - Detection of convergence to halt the algorithm before the maximum number of iterations\n",
    "import numpy as np\n",
    "from random import shuffle\n",
    "\n",
    "def compute_update_stoch(w, x, y, alpha):\n",
    "    for k in range(len(x)):\n",
    "        w[k] = w[k] + alpha * (y - h(w,x)) * x[k]\n",
    "    return w\n",
    "\n",
    "def sgd(data, labels, alpha, max_iter):\n",
    "    w = np.zeros(len(data[0]))\n",
    "    i=0\n",
    "    while (i<max_iter):\n",
    "        for j in range(len(data)):\n",
    "            w = compute_update_stoch(w, data[j], labels[j], alpha)\n",
    "        i+=1\n",
    "    return w\n",
    "\n",
    "\n",
    "# Training with SGD\n",
    "alpha = 0.5\n",
    "max_iter = 200\n",
    "\n",
    "sgdw = sgd(X_normalized, Y, alpha, max_iter)\n",
    "print(\"\\nTrained Weights with SGD: \", sgdw)\n",
    "# Checking if it is correctly classified all points\n",
    "for i in range(4):\n",
    "    print(\"Prediction for \", X_normalized[i], \" is \", h(sgdw, X_normalized[i]))"
   ]
  },
  {
   "cell_type": "markdown",
   "metadata": {
    "editable": true,
    "slideshow": {
     "slide_type": ""
    },
    "tags": []
   },
   "source": [
    "<!-- Answer Section Start -->\n",
    "<div style=\"border: 1px solid green; padding: 10px; margin-top: 10px; border-radius: 5px\">\n",
    "\n",
    "Is the convergence faster ? \n",
    "Yes, it is. We obtain a loss of 81 with the same variables as our best model which gave us a loss of 171. It converges way faster. \n",
    "\n",
    "Try to quantify this speed-up. What about accuracy ?\n",
    "The accuracy is very lacking. We can see on the graph that the updated y are spread everywhere. \n",
    "\n",
    "\n",
    "\n",
    "\n",
    "\n",
    "\n",
    "\n",
    "</div>\n",
    "<!-- Answer Section End -->"
   ]
  },
  {
   "cell_type": "code",
   "execution_count": null,
   "metadata": {
    "editable": true,
    "slideshow": {
     "slide_type": ""
    },
    "tags": []
   },
   "outputs": [],
   "source": []
  }
 ],
 "metadata": {
  "kernelspec": {
   "display_name": "Python 3 (ipykernel)",
   "language": "python",
   "name": "python3"
  },
  "language_info": {
   "codemirror_mode": {
    "name": "ipython",
    "version": 3
   },
   "file_extension": ".py",
   "mimetype": "text/x-python",
   "name": "python",
   "nbconvert_exporter": "python",
   "pygments_lexer": "ipython3",
   "version": "3.10.2"
  }
 },
 "nbformat": 4,
 "nbformat_minor": 4
}
